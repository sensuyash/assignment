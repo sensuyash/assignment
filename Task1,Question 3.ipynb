{
 "cells": [
  {
   "cell_type": "code",
   "execution_count": 1,
   "metadata": {},
   "outputs": [
    {
     "name": "stdout",
     "output_type": "stream",
     "text": [
      "Suyash\n",
      "Sen\n",
      "Sen Suyash\n"
     ]
    }
   ],
   "source": [
    "# Question 3:Write a Python program to accept the user's first and last name and then getting them printed in the reverse order with a space between first name and last name.\n",
    "#Solution:\n",
    "First_name=input()\n",
    "Last_name=input()\n",
    "print(Last_name+\" \"+First_name)\n"
   ]
  }
 ],
 "metadata": {
  "kernelspec": {
   "display_name": "Python 3",
   "language": "python",
   "name": "python3"
  },
  "language_info": {
   "codemirror_mode": {
    "name": "ipython",
    "version": 3
   },
   "file_extension": ".py",
   "mimetype": "text/x-python",
   "name": "python",
   "nbconvert_exporter": "python",
   "pygments_lexer": "ipython3",
   "version": "3.7.6"
  }
 },
 "nbformat": 4,
 "nbformat_minor": 4
}
