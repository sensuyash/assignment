{
 "cells": [
  {
   "cell_type": "code",
   "execution_count": 21,
   "metadata": {},
   "outputs": [
    {
     "name": "stdout",
     "output_type": "stream",
     "text": [
      "The Volume of the sphere is: 7241.142857142856\n"
     ]
    }
   ],
   "source": [
    "# Question 4: Write a Python program to find the volume of the sphere with diameter 12 cm.\n",
    "#Solution:\n",
    "r=12\n",
    "pi=22/7\n",
    "V=(4/3)*pi*r**3\n",
    "print(\"The Volume of the sphere is:\",V)"
   ]
  }
 ],
 "metadata": {
  "kernelspec": {
   "display_name": "Python 3",
   "language": "python",
   "name": "python3"
  },
  "language_info": {
   "codemirror_mode": {
    "name": "ipython",
    "version": 3
   },
   "file_extension": ".py",
   "mimetype": "text/x-python",
   "name": "python",
   "nbconvert_exporter": "python",
   "pygments_lexer": "ipython3",
   "version": "3.7.6"
  }
 },
 "nbformat": 4,
 "nbformat_minor": 4
}
